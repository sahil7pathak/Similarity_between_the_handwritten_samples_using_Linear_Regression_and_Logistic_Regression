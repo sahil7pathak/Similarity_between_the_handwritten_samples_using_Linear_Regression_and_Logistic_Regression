{
 "cells": [
  {
   "cell_type": "code",
   "execution_count": 132,
   "metadata": {
    "scrolled": true
   },
   "outputs": [],
   "source": [
    "import numpy as np\n",
    "import pandas as pd\n",
    "import csv\n",
    "import math\n",
    "from sklearn.metrics import confusion_matrix\n",
    "\n",
    "HumanObsData = pd.read_csv(\"HumanObserved-Features-Data.csv\")\n",
    "HumanObsData = HumanObsData.drop(HumanObsData.columns[0], axis=1)\n",
    "HumanObsData.head()\n",
    "\n",
    "matrix = []\n",
    "for i in range(HumanObsData.shape[0]):\n",
    "    l = []\n",
    "    for j in range(1,HumanObsData.shape[1]):\n",
    "        l.append(HumanObsData.iloc[i][j])\n",
    "    matrix.append([HumanObsData.iloc[i][0],l])\n",
    "    \n",
    "'''Make a dictionary (HOD_mydict) where the ‘key’ would be the image id and ‘value’ would be             \n",
    "the feature vector for that particular image id.'''\n",
    "HOD_mydict = {}\n",
    "for i in range(len(matrix)):\n",
    "    for j in range(len(matrix[0])):\n",
    "        key = matrix[i][0]\n",
    "        value = matrix[i][1]\n",
    "        HOD_mydict[key] = value\n"
   ]
  },
  {
   "cell_type": "code",
   "execution_count": 133,
   "metadata": {},
   "outputs": [],
   "source": [
    "Diff = pd.read_csv(\"HOD_diffn_pairs.csv\")\n",
    "Same = pd.read_csv(\"HOD_same_pairs.csv\")\n",
    "\n",
    "'''Since the number of different pairs (293,032) is way more than what we have in same pairs (791), \n",
    "we consider a sample of images where the number of images chosen are equal to the number of same pairs i.e. 791.'''\n",
    "Diff_size = Same.shape[0]\n",
    "\n",
    "Diff_sample = Diff.sample(Diff_size)"
   ]
  },
  {
   "cell_type": "markdown",
   "metadata": {},
   "source": [
    "# Processing for Concatenation"
   ]
  },
  {
   "cell_type": "code",
   "execution_count": 134,
   "metadata": {
    "scrolled": false
   },
   "outputs": [],
   "source": [
    "\n",
    "lo = list(HumanObsData.columns.values) '''To have the header values'''\n",
    "\n",
    "same_copy = Same\n",
    "diff_copy = Diff_sample\n",
    "\n",
    "same_diff_concat = same_copy.append(diff_copy)\n",
    "\n",
    "final_HOD_concat_dataset = same_diff_concat\n",
    "\n",
    "'''Rearranging the columns'''\n",
    "header_list = ['img_id_A','img_id_B','target','fa1','fa2','fa3','fa4','fa5','fa6','fa7','fa8','fa9','fb1','fb2','fb3','fb4','fb5','fb6','fb7','fb8','fb9']\n",
    "final_HOD_concat_dataset = final_HOD_concat_dataset.reindex(columns = header_list) \n",
    "\n",
    "'''Code to generate a concatenated features dataframe'''\n",
    "m = 0\n",
    "for i in range(same_diff_concat.shape[0]):\n",
    "    f1 = HOD_mydict.get(same_diff_concat.iloc[i][0])\n",
    "    f2 = HOD_mydict.get(same_diff_concat.iloc[i][1])\n",
    "    f3 = f1 + f2\n",
    "    for k in range(3, 21):\n",
    "        final_HOD_concat_dataset.iat[i,k] = f3[m] \n",
    "        m += 1\n",
    "    m = 0\n",
    "    "
   ]
  },
  {
   "cell_type": "code",
   "execution_count": 135,
   "metadata": {},
   "outputs": [
    {
     "data": {
      "text/html": [
       "<div>\n",
       "<style scoped>\n",
       "    .dataframe tbody tr th:only-of-type {\n",
       "        vertical-align: middle;\n",
       "    }\n",
       "\n",
       "    .dataframe tbody tr th {\n",
       "        vertical-align: top;\n",
       "    }\n",
       "\n",
       "    .dataframe thead th {\n",
       "        text-align: right;\n",
       "    }\n",
       "</style>\n",
       "<table border=\"1\" class=\"dataframe\">\n",
       "  <thead>\n",
       "    <tr style=\"text-align: right;\">\n",
       "      <th></th>\n",
       "      <th>img_id_A</th>\n",
       "      <th>img_id_B</th>\n",
       "      <th>target</th>\n",
       "      <th>fa1</th>\n",
       "      <th>fa2</th>\n",
       "      <th>fa3</th>\n",
       "      <th>fa4</th>\n",
       "      <th>fa5</th>\n",
       "      <th>fa6</th>\n",
       "      <th>fa7</th>\n",
       "      <th>...</th>\n",
       "      <th>fa9</th>\n",
       "      <th>fb1</th>\n",
       "      <th>fb2</th>\n",
       "      <th>fb3</th>\n",
       "      <th>fb4</th>\n",
       "      <th>fb5</th>\n",
       "      <th>fb6</th>\n",
       "      <th>fb7</th>\n",
       "      <th>fb8</th>\n",
       "      <th>fb9</th>\n",
       "    </tr>\n",
       "  </thead>\n",
       "  <tbody>\n",
       "    <tr>\n",
       "      <th>0</th>\n",
       "      <td>0359a</td>\n",
       "      <td>0359b</td>\n",
       "      <td>1</td>\n",
       "      <td>2.0</td>\n",
       "      <td>1.0</td>\n",
       "      <td>1.0</td>\n",
       "      <td>0.0</td>\n",
       "      <td>2.0</td>\n",
       "      <td>2.0</td>\n",
       "      <td>0.0</td>\n",
       "      <td>...</td>\n",
       "      <td>2.0</td>\n",
       "      <td>3.0</td>\n",
       "      <td>2.0</td>\n",
       "      <td>1.0</td>\n",
       "      <td>0.0</td>\n",
       "      <td>2.0</td>\n",
       "      <td>2.0</td>\n",
       "      <td>3.0</td>\n",
       "      <td>0.0</td>\n",
       "      <td>2.0</td>\n",
       "    </tr>\n",
       "    <tr>\n",
       "      <th>1</th>\n",
       "      <td>0577a</td>\n",
       "      <td>0577b</td>\n",
       "      <td>1</td>\n",
       "      <td>2.0</td>\n",
       "      <td>1.0</td>\n",
       "      <td>1.0</td>\n",
       "      <td>0.0</td>\n",
       "      <td>2.0</td>\n",
       "      <td>2.0</td>\n",
       "      <td>0.0</td>\n",
       "      <td>...</td>\n",
       "      <td>2.0</td>\n",
       "      <td>2.0</td>\n",
       "      <td>1.0</td>\n",
       "      <td>0.0</td>\n",
       "      <td>3.0</td>\n",
       "      <td>2.0</td>\n",
       "      <td>2.0</td>\n",
       "      <td>1.0</td>\n",
       "      <td>2.0</td>\n",
       "      <td>2.0</td>\n",
       "    </tr>\n",
       "    <tr>\n",
       "      <th>2</th>\n",
       "      <td>0577a</td>\n",
       "      <td>0577c</td>\n",
       "      <td>1</td>\n",
       "      <td>2.0</td>\n",
       "      <td>1.0</td>\n",
       "      <td>1.0</td>\n",
       "      <td>0.0</td>\n",
       "      <td>2.0</td>\n",
       "      <td>2.0</td>\n",
       "      <td>0.0</td>\n",
       "      <td>...</td>\n",
       "      <td>2.0</td>\n",
       "      <td>1.0</td>\n",
       "      <td>1.0</td>\n",
       "      <td>1.0</td>\n",
       "      <td>1.0</td>\n",
       "      <td>2.0</td>\n",
       "      <td>3.0</td>\n",
       "      <td>0.0</td>\n",
       "      <td>0.0</td>\n",
       "      <td>2.0</td>\n",
       "    </tr>\n",
       "    <tr>\n",
       "      <th>3</th>\n",
       "      <td>1120a</td>\n",
       "      <td>1120b</td>\n",
       "      <td>1</td>\n",
       "      <td>2.0</td>\n",
       "      <td>1.0</td>\n",
       "      <td>1.0</td>\n",
       "      <td>3.0</td>\n",
       "      <td>2.0</td>\n",
       "      <td>2.0</td>\n",
       "      <td>0.0</td>\n",
       "      <td>...</td>\n",
       "      <td>2.0</td>\n",
       "      <td>1.0</td>\n",
       "      <td>1.0</td>\n",
       "      <td>1.0</td>\n",
       "      <td>0.0</td>\n",
       "      <td>2.0</td>\n",
       "      <td>2.0</td>\n",
       "      <td>0.0</td>\n",
       "      <td>2.0</td>\n",
       "      <td>2.0</td>\n",
       "    </tr>\n",
       "    <tr>\n",
       "      <th>4</th>\n",
       "      <td>1120a</td>\n",
       "      <td>1120c</td>\n",
       "      <td>1</td>\n",
       "      <td>2.0</td>\n",
       "      <td>1.0</td>\n",
       "      <td>1.0</td>\n",
       "      <td>3.0</td>\n",
       "      <td>2.0</td>\n",
       "      <td>2.0</td>\n",
       "      <td>0.0</td>\n",
       "      <td>...</td>\n",
       "      <td>2.0</td>\n",
       "      <td>2.0</td>\n",
       "      <td>1.0</td>\n",
       "      <td>1.0</td>\n",
       "      <td>0.0</td>\n",
       "      <td>2.0</td>\n",
       "      <td>2.0</td>\n",
       "      <td>0.0</td>\n",
       "      <td>0.0</td>\n",
       "      <td>2.0</td>\n",
       "    </tr>\n",
       "  </tbody>\n",
       "</table>\n",
       "<p>5 rows × 21 columns</p>\n",
       "</div>"
      ],
      "text/plain": [
       "  img_id_A img_id_B  target  fa1  fa2  fa3  fa4  fa5  fa6  fa7 ...   fa9  fb1  \\\n",
       "0    0359a    0359b       1  2.0  1.0  1.0  0.0  2.0  2.0  0.0 ...   2.0  3.0   \n",
       "1    0577a    0577b       1  2.0  1.0  1.0  0.0  2.0  2.0  0.0 ...   2.0  2.0   \n",
       "2    0577a    0577c       1  2.0  1.0  1.0  0.0  2.0  2.0  0.0 ...   2.0  1.0   \n",
       "3    1120a    1120b       1  2.0  1.0  1.0  3.0  2.0  2.0  0.0 ...   2.0  1.0   \n",
       "4    1120a    1120c       1  2.0  1.0  1.0  3.0  2.0  2.0  0.0 ...   2.0  2.0   \n",
       "\n",
       "   fb2  fb3  fb4  fb5  fb6  fb7  fb8  fb9  \n",
       "0  2.0  1.0  0.0  2.0  2.0  3.0  0.0  2.0  \n",
       "1  1.0  0.0  3.0  2.0  2.0  1.0  2.0  2.0  \n",
       "2  1.0  1.0  1.0  2.0  3.0  0.0  0.0  2.0  \n",
       "3  1.0  1.0  0.0  2.0  2.0  0.0  2.0  2.0  \n",
       "4  1.0  1.0  0.0  2.0  2.0  0.0  0.0  2.0  \n",
       "\n",
       "[5 rows x 21 columns]"
      ]
     },
     "execution_count": 135,
     "metadata": {},
     "output_type": "execute_result"
    }
   ],
   "source": [
    "final_HOD_concat_dataset.head()"
   ]
  },
  {
   "cell_type": "markdown",
   "metadata": {},
   "source": [
    "# Generating the Concatenated Features Dataset"
   ]
  },
  {
   "cell_type": "code",
   "execution_count": 136,
   "metadata": {},
   "outputs": [],
   "source": [
    "'''Randomly shuffling the data points in the concatenated dataset'''\n",
    "final_HOD_concat_dataset = final_HOD_concat_dataset.sample(final_HOD_concat_dataset.shape[0]) \n",
    "\n",
    "'''Rearranging the columns'''\n",
    "final_HOD_concat_dataset = final_HOD_concat_dataset[['img_id_A','img_id_B','fa1','fa2','fa3','fa4','fa5','fa6','fa7','fa8','fa9','fb1','fb2','fb3','fb4','fb5','fb6','fb7','fb8','fb9','target']]\n",
    "\n",
    "'''Generating Concatenated Features Dataset for Logistic Regression'''\n",
    "final_HOD_concat_dataset_logi = final_HOD_concat_dataset\n",
    "final_HOD_concat_dataset_logi = final_HOD_concat_dataset_logi.drop(['img_id_A','img_id_B'], axis=1)\n",
    "final_HOD_concat_dataset_logi.to_csv(\"HOD_concat_dataset_logi.csv\", index=False)\n",
    "\n",
    "'''Storing to csv files'''\n",
    "final_HOD_concat_dataset_f = final_HOD_concat_dataset\n",
    "final_HOD_concat_dataset_t = final_HOD_concat_dataset\n",
    "\n",
    "final_HOD_concat_dataset_f = final_HOD_concat_dataset_f.drop(['img_id_A','img_id_B','target'], axis=1) \n",
    "final_HOD_concat_dataset_t = final_HOD_concat_dataset_t.drop(['img_id_A','img_id_B','fa1','fa2','fa3','fa4','fa5','fa6','fa7','fa8','fa9','fb1','fb2','fb3','fb4','fb5','fb6','fb7','fb8','fb9'], axis=1)\n",
    "\n",
    "'''HOD_concat_dataset_f.csv stores all the features whereas final_HOD_concat_dataset_t.csv stores the target values'''\n",
    "final_HOD_concat_dataset_f.to_csv(\"HOD_concat_dataset_f.csv\", index=False, header=False)\n",
    "final_HOD_concat_dataset_t.to_csv(\"HOD_concat_dataset_t.csv\", index=False, header=False)\n"
   ]
  },
  {
   "cell_type": "markdown",
   "metadata": {},
   "source": [
    "# Generating the Subtracted Feature Dataset"
   ]
  },
  {
   "cell_type": "code",
   "execution_count": 137,
   "metadata": {},
   "outputs": [],
   "source": [
    "\n",
    "final_HOD_sub_dataset = same_diff_concat\n",
    "header_list1 = ['img_id_A','img_id_B','target','fab1','fab2','fab3','fab4','fab5','fab6','fab7','fab8','fab9']\n",
    "final_HOD_sub_dataset = final_HOD_sub_dataset.reindex(columns = header_list1)\n",
    "\n",
    "m = 0\n",
    "for i in range(same_diff_concat.shape[0]):\n",
    "    f1 = HOD_mydict.get(same_diff_concat.iloc[i][0])\n",
    "    f2 = HOD_mydict.get(same_diff_concat.iloc[i][1])\n",
    "    f3 = list(np.abs(np.array(f1) - np.array(f2))) '''Considering absolute values'''\n",
    "    for k in range(3, 12):\n",
    "        final_HOD_sub_dataset.iat[i,k] = f3[m]\n",
    "        m += 1\n",
    "    m = 0\n",
    "\n",
    "final_HOD_sub_dataset = final_HOD_sub_dataset.sample(final_HOD_sub_dataset.shape[0]) #Randomize\n",
    "final_HOD_sub_dataset = final_HOD_sub_dataset[['img_id_A','img_id_B','fab1','fab2','fab3','fab4','fab5','fab6','fab7','fab8','fab9','target']]\n",
    "\n",
    "'''Generating Subtracted Features Dataset for Logistic Regression'''\n",
    "final_HOD_sub_dataset_logi = final_HOD_sub_dataset\n",
    "final_HOD_sub_dataset_logi = final_HOD_sub_dataset_logi.drop(['img_id_A','img_id_B'], axis=1)\n",
    "final_HOD_sub_dataset_logi.to_csv(\"HOD_sub_dataset_logi.csv\", index=False)\n",
    "\n",
    "'''Storing to csv files'''\n",
    "final_HOD_sub_dataset_f = final_HOD_sub_dataset\n",
    "final_HOD_sub_dataset_t = final_HOD_sub_dataset\n",
    "\n",
    "final_HOD_sub_dataset_f = final_HOD_sub_dataset_f.drop(['img_id_A','img_id_B','target'], axis=1) \n",
    "final_HOD_sub_dataset_t = final_HOD_sub_dataset_t.drop(['img_id_A','img_id_B','fab1','fab2','fab3','fab4','fab5','fab6','fab7','fab8','fab9'], axis=1)\n",
    "\n",
    "\n",
    "final_HOD_sub_dataset_f.to_csv(\"HOD_sub_dataset_f.csv\", index=False, header=False)\n",
    "final_HOD_sub_dataset_t.to_csv(\"HOD_sub_dataset_t.csv\", index=False, header=False)\n"
   ]
  },
  {
   "cell_type": "code",
   "execution_count": 138,
   "metadata": {},
   "outputs": [],
   "source": [
    "'''Linear Regression using Basis function'''\n",
    "\n",
    "TrainingPercent = 80\n",
    "ValidationPercent = 10\n",
    "TestPercent = 10\n",
    "'''Number of basis functions '''\n",
    "M = 10\n",
    "PHI = []\n",
    "\n",
    "def GetTargetVector(filePath):\n",
    "    t = []\n",
    "    with open(filePath, 'rU') as f:\n",
    "        reader = csv.reader(f)\n",
    "        for row in reader:  \n",
    "            t.append(int(row[0]))\n",
    "    return t\n",
    "\n",
    "def GenerateRawData(filePath):    \n",
    "    dataMatrix = [] \n",
    "    with open(filePath, 'rU') as fi:\n",
    "        reader = csv.reader(fi)\n",
    "        for row in reader:\n",
    "            dataRow = []\n",
    "            for column in row:\n",
    "                dataRow.append(float(column))\n",
    "            dataMatrix.append(dataRow)   \n",
    "    dataMatrix = np.transpose(dataMatrix)     \n",
    "    return dataMatrix\n",
    "\n",
    "def GenerateTrainingTarget(rawTraining,TrainingPercent = 80):\n",
    "    TrainingLen = int(math.ceil(len(rawTraining)*(TrainingPercent*0.01)))\n",
    "    t = rawTraining[:TrainingLen]\n",
    "    return t\n",
    "\n",
    "def GenerateTrainingDataMatrix(rawData, TrainingPercent = 80):\n",
    "    T_len = int(math.ceil(len(rawData[0])*0.01*TrainingPercent))\n",
    "    d2 = rawData[:,0:T_len]\n",
    "    return d2\n",
    "\n",
    "def GenerateValData(rawData, ValPercent, TrainingCount): \n",
    "    valSize = int(math.ceil(len(rawData[0])*ValPercent*0.01))\n",
    "    V_End = TrainingCount + valSize\n",
    "    dataMatrix = rawData[:,TrainingCount+1:V_End]\n",
    "    return dataMatrix\n",
    "\n",
    "def GenerateValTargetVector(rawData, ValPercent, TrainingCount): \n",
    "    valSize = int(math.ceil(len(rawData)*ValPercent*0.01))\n",
    "    V_End = TrainingCount + valSize\n",
    "    t = rawData[TrainingCount+1:V_End]\n",
    "    return t\n",
    "\n",
    "def GenerateBigSigma(Data, MuMatrix,TrainingPercent):\n",
    "    BigSigma = np.zeros((len(Data),len(Data)))\n",
    "    DataT = np.transpose(Data)\n",
    "    TrainingLen = math.ceil(len(DataT)*(TrainingPercent*0.01))  \n",
    "    varVect = []\n",
    "    for i in range(0,len(DataT[0])):\n",
    "        vct = []\n",
    "        for j in range(0,int(TrainingLen)):\n",
    "            vct.append(Data[i][j])    \n",
    "        varVect.append(np.var(vct))\n",
    "    for j in range(len(Data)):\n",
    "        BigSigma[j][j] = varVect[j]\n",
    "    BigSigma = np.dot(200,BigSigma)\n",
    "    return BigSigma\n",
    "\n",
    "def GetScalar(DataRow,MuRow, BigSigInv):  \n",
    "    R = np.subtract(DataRow,MuRow)\n",
    "    T = np.dot(BigSigInv,np.transpose(R)) \n",
    "    L = np.dot(R,T)\n",
    "    return L\n",
    "\n",
    "def GetRadialBasisOut(DataRow,MuRow, BigSigInv):    \n",
    "    phi_x = math.exp(-0.5*GetScalar(DataRow,MuRow,BigSigInv))\n",
    "    return phi_x\n",
    "\n",
    "def GetPhiMatrix(Data, MuMatrix, BigSigma, TrainingPercent = 80):\n",
    "    DataT = np.transpose(Data)\n",
    "    TrainingLen = math.ceil(len(DataT)*(TrainingPercent*0.01))         \n",
    "    PHI = np.zeros((int(TrainingLen),len(MuMatrix))) \n",
    "    BigSigInv = np.linalg.inv(BigSigma)\n",
    "    for  C in range(0,len(MuMatrix)):\n",
    "        for R in range(0,int(TrainingLen)):\n",
    "            PHI[R][C] = GetRadialBasisOut(DataT[R], MuMatrix[C], BigSigInv)\n",
    "    return PHI\n",
    "\n",
    "def GetValTest(VAL_PHI,W):\n",
    "    Y = np.dot(W,np.transpose(VAL_PHI))\n",
    "    return Y\n",
    "\n",
    "def GetErms(VAL_TEST_OUT,ValDataAct):\n",
    "    sum = 0.0\n",
    "    accuracy = 0.0\n",
    "    counter = 0\n",
    "    for i in range (0,len(VAL_TEST_OUT)):\n",
    "        sum = sum + math.pow((ValDataAct[i] - VAL_TEST_OUT[i]),2)\n",
    "        if(int(np.around(VAL_TEST_OUT[i], 0)) == ValDataAct[i]):\n",
    "            counter+=1\n",
    "    accuracy = (float((counter*100))/float(len(VAL_TEST_OUT)))\n",
    "    return (str(accuracy) + ',' +  str(math.sqrt(sum/len(VAL_TEST_OUT))))"
   ]
  },
  {
   "cell_type": "markdown",
   "metadata": {},
   "source": [
    "# Fetching the Dataset"
   ]
  },
  {
   "cell_type": "code",
   "execution_count": 139,
   "metadata": {},
   "outputs": [
    {
     "name": "stdout",
     "output_type": "stream",
     "text": [
      "Enter 1 for Human Observed Data, Concatenated Feature Setting\n",
      "Enter 2 for Human Observed Data, Subtracted Feature Setting\n",
      "1\n"
     ]
    },
    {
     "name": "stderr",
     "output_type": "stream",
     "text": [
      "C:\\Users\\Sahil\\Anaconda3\\lib\\site-packages\\ipykernel_launcher.py:17: DeprecationWarning: 'U' mode is deprecated\n",
      "C:\\Users\\Sahil\\Anaconda3\\lib\\site-packages\\ipykernel_launcher.py:30: DeprecationWarning: 'U' mode is deprecated\n"
     ]
    }
   ],
   "source": [
    "#Fetch input\n",
    "a = input(\"Enter 1 for Human Observed Data, Concatenated Feature Setting\\nEnter 2 for Human Observed Data, Subtracted Feature Setting\\n\")\n",
    "if(a == str(1)):\n",
    "    RawTarget = GetTargetVector('HOD_concat_dataset_t.csv')\n",
    "    RawData   = GenerateRawData('HOD_concat_dataset_f.csv')\n",
    "else:\n",
    "    RawTarget = GetTargetVector('HOD_sub_dataset_t.csv')\n",
    "    RawData   = GenerateRawData('HOD_sub_dataset_f.csv')"
   ]
  },
  {
   "cell_type": "markdown",
   "metadata": {},
   "source": [
    "# Partitioning the Dataset"
   ]
  },
  {
   "cell_type": "code",
   "execution_count": 140,
   "metadata": {},
   "outputs": [
    {
     "name": "stdout",
     "output_type": "stream",
     "text": [
      "(1266,)\n",
      "(18, 1266)\n"
     ]
    }
   ],
   "source": [
    "'''Generating the TrainingTarget and TrainingData by performing partioning of the original dataset'''\n",
    "TrainingTarget = np.array(GenerateTrainingTarget(RawTarget,TrainingPercent))\n",
    "TrainingData   = GenerateTrainingDataMatrix(RawData,TrainingPercent)\n",
    "print(\"Training Target: \",TrainingTarget.shape)\n",
    "print(\"Training Data: \",TrainingData.shape)"
   ]
  },
  {
   "cell_type": "code",
   "execution_count": 141,
   "metadata": {},
   "outputs": [
    {
     "name": "stdout",
     "output_type": "stream",
     "text": [
      "(158,)\n",
      "(18, 158)\n"
     ]
    }
   ],
   "source": [
    "'''Partitioning for Validation set'''\n",
    "ValDataAct = np.array(GenerateValTargetVector(RawTarget,ValidationPercent, (len(TrainingTarget))))\n",
    "ValData    = GenerateValData(RawData,ValidationPercent, (len(TrainingTarget)))\n",
    "print(\"Validation Target: \",ValDataAct.shape)\n",
    "print(\"Validation Data: \",ValData.shape)"
   ]
  },
  {
   "cell_type": "code",
   "execution_count": 142,
   "metadata": {},
   "outputs": [
    {
     "name": "stdout",
     "output_type": "stream",
     "text": [
      "(157,)\n",
      "(18, 157)\n"
     ]
    }
   ],
   "source": [
    "'''Partitioning for test set'''\n",
    "TestDataAct = np.array(GenerateValTargetVector(RawTarget,TestPercent, (len(TrainingTarget)+len(ValDataAct))))\n",
    "TestData = GenerateValData(RawData,TestPercent, (len(TrainingTarget)+len(ValDataAct)))\n",
    "print(\"Testing Target: \",TestDataAct.shape)\n",
    "print(\"Testing Data: \",TestData.shape)"
   ]
  },
  {
   "cell_type": "markdown",
   "metadata": {},
   "source": [
    "# Training Using SGD\n"
   ]
  },
  {
   "cell_type": "code",
   "execution_count": 143,
   "metadata": {},
   "outputs": [],
   "source": [
    "ErmsArr = []\n",
    "AccuracyArr = []\n",
    "from sklearn.cluster import KMeans\n",
    "'''We are doing kmeans clustering to find suitable number of cluster centroids. The cluster centroids would help us determine\n",
    "the number of gaussian basis functions and their mean'''\n",
    "kmeans = KMeans(n_clusters=M, random_state=0).fit(np.transpose(TrainingData))\n",
    "Mu = kmeans.cluster_centers_\n",
    "\n",
    "BigSigma     = GenerateBigSigma(RawData, Mu, TrainingPercent)\n",
    "TRAINING_PHI = GetPhiMatrix(RawData, Mu, BigSigma, TrainingPercent)\n",
    "TEST_PHI     = GetPhiMatrix(TestData, Mu, BigSigma, 100) \n",
    "VAL_PHI      = GetPhiMatrix(ValData, Mu, BigSigma, 100)"
   ]
  },
  {
   "cell_type": "code",
   "execution_count": 144,
   "metadata": {},
   "outputs": [],
   "source": [
    "'''Initializing the weights with 0 in the beginning'''\n",
    "W_Now = np.zeros(M)\n",
    "La           = 0.8\n",
    "learningRate = 0.001\n",
    "L_Erms_Val   = []\n",
    "L_Erms_TR    = []\n",
    "L_Erms_Test  = []\n",
    "W_Mat        = []\n",
    "\n",
    "for i in range(1000):\n",
    "    for i in range(0,1200):\n",
    "    \n",
    "        Delta_E_D = -np.dot((TrainingTarget[i] - np.dot(np.transpose(W_Now),TRAINING_PHI[i])),TRAINING_PHI[i])\n",
    "        La_Delta_E_W = np.dot(La,W_Now)\n",
    "        Delta_E = np.add(Delta_E_D,La_Delta_E_W)    \n",
    "        Delta_W = -np.dot(learningRate,Delta_E)\n",
    "        W_T_Next = W_Now + Delta_W\n",
    "        W_Now = W_T_Next\n",
    "    \n",
    "        TR_TEST_OUT = GetValTest(TRAINING_PHI,W_T_Next) \n",
    "        Erms_TR = GetErms(TR_TEST_OUT,TrainingTarget)\n",
    "        L_Erms_TR.append(float(Erms_TR.split(',')[1]))\n",
    "    \n",
    "        VAL_TEST_OUT = GetValTest(VAL_PHI,W_T_Next) \n",
    "        Erms_Val = GetErms(VAL_TEST_OUT,ValDataAct)\n",
    "        L_Erms_Val.append(float(Erms_Val.split(',')[1]))\n",
    "    \n",
    "    TEST_OUT = GetValTest(TEST_PHI,W_T_Next) \n",
    "    Erms_Test = GetErms(TEST_OUT,TestDataAct)\n",
    "    L_Erms_Test.append(float(Erms_Test.split(',')[1]))"
   ]
  },
  {
   "cell_type": "code",
   "execution_count": 145,
   "metadata": {},
   "outputs": [
    {
     "name": "stdout",
     "output_type": "stream",
     "text": [
      "----------Gradient Descent Solution--------------------\n",
      "E_rms Training   = 0.49921\n",
      "E_rms Validation = 0.49748\n",
      "E_rms Testing    = 0.49724\n"
     ]
    }
   ],
   "source": [
    "print ('----------Gradient Descent Solution--------------------')\n",
    "print (\"E_rms Training   = \" + str(np.around(min(L_Erms_TR),5)))\n",
    "print (\"E_rms Validation = \" + str(np.around(min(L_Erms_Val),5)))\n",
    "print (\"E_rms Testing    = \" + str(np.around(min(L_Erms_Test),5)))"
   ]
  },
  {
   "cell_type": "code",
   "execution_count": 174,
   "metadata": {},
   "outputs": [
    {
     "data": {
      "text/plain": [
       "<matplotlib.axes._subplots.AxesSubplot at 0x203c1640710>"
      ]
     },
     "execution_count": 174,
     "metadata": {},
     "output_type": "execute_result"
    },
    {
     "data": {
      "image/png": "[encoded data removed]",
      "text/plain": [
       "<Figure size 288x288 with 1 Axes>"
      ]
     },
     "metadata": {},
     "output_type": "display_data"
    }
   ],
   "source": [
    "import matplotlib as plt\n",
    "\n",
    "df = pd.DataFrame(L_Erms_TR)\n",
    "pt = df.plot(figsize=(4,4))\n",
    "pt"
   ]
  },
  {
   "cell_type": "code",
   "execution_count": 172,
   "metadata": {},
   "outputs": [
    {
     "data": {
      "text/plain": [
       "<matplotlib.axes._subplots.AxesSubplot at 0x203c1592cf8>"
      ]
     },
     "execution_count": 172,
     "metadata": {},
     "output_type": "execute_result"
    },
    {
     "data": {
      "image/png": "[encoded data removed]",
      "text/plain": [
       "<Figure size 288x288 with 1 Axes>"
      ]
     },
     "metadata": {},
     "output_type": "display_data"
    }
   ],
   "source": [
    "import matplotlib as plt\n",
    "\n",
    "df = pd.DataFrame(L_Erms_Val)\n",
    "pt = df.plot(figsize=(4,4))\n",
    "pt"
   ]
  },
  {
   "cell_type": "code",
   "execution_count": 173,
   "metadata": {},
   "outputs": [
    {
     "data": {
      "text/plain": [
       "<matplotlib.axes._subplots.AxesSubplot at 0x203c15e2160>"
      ]
     },
     "execution_count": 173,
     "metadata": {},
     "output_type": "execute_result"
    },
    {
     "data": {
      "image/png": "[encoded data removed]",
      "text/plain": [
       "<Figure size 288x288 with 1 Axes>"
      ]
     },
     "metadata": {},
     "output_type": "display_data"
    }
   ],
   "source": [
    "import matplotlib as plt\n",
    "\n",
    "df = pd.DataFrame(L_Erms_Test)\n",
    "pt = df.plot(figsize=(4,4))\n",
    "pt"
   ]
  },
  {
   "cell_type": "markdown",
   "metadata": {},
   "source": [
    "# Compute the Confusion Matrix"
   ]
  },
  {
   "cell_type": "code",
   "execution_count": 151,
   "metadata": {},
   "outputs": [
    {
     "data": {
      "text/plain": [
       "array([[86,  0],\n",
       "       [71,  0]], dtype=int64)"
      ]
     },
     "execution_count": 151,
     "metadata": {},
     "output_type": "execute_result"
    }
   ],
   "source": [
    "confusion_matrix(TrainingTarget,np.around(TR_TEST_OUT,0))"
   ]
  },
  {
   "cell_type": "code",
   "execution_count": null,
   "metadata": {},
   "outputs": [],
   "source": [
    "confusion_matrix(ValDataAct,np.around(VAL_TEST_OUT,0))"
   ]
  },
  {
   "cell_type": "code",
   "execution_count": null,
   "metadata": {},
   "outputs": [],
   "source": [
    "confusion_matrix(TestDataAct,np.around(TEST_TEST_OUT,0))"
   ]
  },
  {
   "cell_type": "code",
   "execution_count": 161,
   "metadata": {},
   "outputs": [
    {
     "name": "stderr",
     "output_type": "stream",
     "text": [
      "C:\\Users\\Sahil\\Anaconda3\\lib\\site-packages\\sklearn\\metrics\\classification.py:1135: UndefinedMetricWarning: Precision is ill-defined and being set to 0.0 due to no predicted samples.\n",
      "  'precision', 'predicted', average, warn_for)\n"
     ]
    },
    {
     "data": {
      "text/plain": [
       "0.0"
      ]
     },
     "execution_count": 161,
     "metadata": {},
     "output_type": "execute_result"
    }
   ],
   "source": [
    "'''Calculating the Precision Score, The precision is intuitively the ability of the classifier not to label \n",
    "as positive a sample that is negative. &  The recall is intuitively the ability of the classifier to find all the \n",
    "positive samples.\n",
    "The best value is 1 and the worst value is 0 for both.'''\n",
    "from sklearn.metrics import precision_score, recall_score\n",
    "precision_score(TrainingTarget, TR_TEST_OUT.round(), average='binary') "
   ]
  },
  {
   "cell_type": "code",
   "execution_count": null,
   "metadata": {},
   "outputs": [],
   "source": [
    "precision_score(ValDataAct, VAl_TEST_OUT.round(), average='binary') \n",
    "recall_score(ValDataAct, VAL_TEST_OUT.round(), average='binary') "
   ]
  },
  {
   "cell_type": "code",
   "execution_count": 163,
   "metadata": {},
   "outputs": [
    {
     "name": "stderr",
     "output_type": "stream",
     "text": [
      "C:\\Users\\Sahil\\Anaconda3\\lib\\site-packages\\sklearn\\metrics\\classification.py:1135: UndefinedMetricWarning: Precision is ill-defined and being set to 0.0 due to no predicted samples.\n",
      "  'precision', 'predicted', average, warn_for)\n"
     ]
    },
    {
     "data": {
      "text/plain": [
       "0.0"
      ]
     },
     "execution_count": 163,
     "metadata": {},
     "output_type": "execute_result"
    }
   ],
   "source": [
    "precision_score(TestDataAct, TEST_OUT.round(), average='binary') \n",
    "recall_score(TestDataAct, TEST_OUT.round(), average='binary')"
   ]
  },
  {
   "cell_type": "code",
   "execution_count": null,
   "metadata": {},
   "outputs": [],
   "source": []
  }
 ],
 "metadata": {
  "kernelspec": {
   "display_name": "Python 3",
   "language": "python",
   "name": "python3"
  },
  "language_info": {
   "codemirror_mode": {
    "name": "ipython",
    "version": 3
   },
   "file_extension": ".py",
   "mimetype": "text/x-python",
   "name": "python",
   "nbconvert_exporter": "python",
   "pygments_lexer": "ipython3",
   "version": "3.6.5"
  }
 },
 "nbformat": 4,
 "nbformat_minor": 2
}
